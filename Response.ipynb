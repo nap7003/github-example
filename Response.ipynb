{
 "cells": [
  {
   "cell_type": "code",
   "execution_count": 26,
   "metadata": {},
   "outputs": [
    {
     "data": {
      "text/html": [
       "<div>\n",
       "<style scoped>\n",
       "    .dataframe tbody tr th:only-of-type {\n",
       "        vertical-align: middle;\n",
       "    }\n",
       "\n",
       "    .dataframe tbody tr th {\n",
       "        vertical-align: top;\n",
       "    }\n",
       "\n",
       "    .dataframe thead th {\n",
       "        text-align: right;\n",
       "    }\n",
       "</style>\n",
       "<table border=\"1\" class=\"dataframe\">\n",
       "  <thead>\n",
       "    <tr style=\"text-align: right;\">\n",
       "      <th></th>\n",
       "      <th>ts</th>\n",
       "      <th>user_id</th>\n",
       "      <th>country_id</th>\n",
       "      <th>site_id</th>\n",
       "    </tr>\n",
       "  </thead>\n",
       "  <tbody>\n",
       "    <tr>\n",
       "      <th>0</th>\n",
       "      <td>2019-02-01 00:01:24</td>\n",
       "      <td>LC36FC</td>\n",
       "      <td>TL6</td>\n",
       "      <td>N0OTG</td>\n",
       "    </tr>\n",
       "    <tr>\n",
       "      <th>1</th>\n",
       "      <td>2019-02-01 00:10:19</td>\n",
       "      <td>LC39B6</td>\n",
       "      <td>TL6</td>\n",
       "      <td>N0OTG</td>\n",
       "    </tr>\n",
       "    <tr>\n",
       "      <th>2</th>\n",
       "      <td>2019-02-01 00:21:50</td>\n",
       "      <td>LC3500</td>\n",
       "      <td>TL6</td>\n",
       "      <td>N0OTG</td>\n",
       "    </tr>\n",
       "    <tr>\n",
       "      <th>3</th>\n",
       "      <td>2019-02-01 00:22:50</td>\n",
       "      <td>LC374F</td>\n",
       "      <td>TL6</td>\n",
       "      <td>N0OTG</td>\n",
       "    </tr>\n",
       "    <tr>\n",
       "      <th>4</th>\n",
       "      <td>2019-02-01 00:23:44</td>\n",
       "      <td>LCC1C3</td>\n",
       "      <td>TL6</td>\n",
       "      <td>QGO3G</td>\n",
       "    </tr>\n",
       "  </tbody>\n",
       "</table>\n",
       "</div>"
      ],
      "text/plain": [
       "                    ts user_id country_id site_id\n",
       "0  2019-02-01 00:01:24  LC36FC        TL6   N0OTG\n",
       "1  2019-02-01 00:10:19  LC39B6        TL6   N0OTG\n",
       "2  2019-02-01 00:21:50  LC3500        TL6   N0OTG\n",
       "3  2019-02-01 00:22:50  LC374F        TL6   N0OTG\n",
       "4  2019-02-01 00:23:44  LCC1C3        TL6   QGO3G"
      ]
     },
     "execution_count": 26,
     "metadata": {},
     "output_type": "execute_result"
    }
   ],
   "source": [
    "import gspread\n",
    "from oauth2client.service_account import ServiceAccountCredentials\n",
    "import pandas as pd\n",
    "import numpy as np\n",
    "import datetime as dt\n",
    "\n",
    "\n",
    "# use creds to create a client to interact with the Google Drive API\n",
    "scope = ['https://spreadsheets.google.com/feeds']\n",
    "creds = ServiceAccountCredentials.from_json_keyfile_name('quickstart-1581730772240-cc225e029ff1.json', scope)\n",
    "gc = gspread.authorize(creds)\n",
    "\n",
    "# Find a workbook by name and open the 'Q3 data' sheet\n",
    "# Make sure you use the right name here.\n",
    "workbook = gc.open_by_url('https://docs.google.com/spreadsheets/d/1dYKJFZkZ-qTcQOrbf80u85Zl1ugrRly3p_AJaQixgcw/edit#gid=1910446069')\n",
    "w1 = workbook.worksheet('Q2 data')\n",
    "w2 = workbook.worksheet('Q3 data')\n",
    "\n",
    "\n",
    "# Extract and print all of the values and load data\n",
    "list_of_hashes = w2.get_all_records()\n",
    "df = pd.DataFrame.from_dict(list_of_hashes,orient='columns')\n",
    "df.head()"
   ]
  },
  {
   "cell_type": "markdown",
   "metadata": {},
   "source": [
    "#### Question1"
   ]
  },
  {
   "cell_type": "code",
   "execution_count": 157,
   "metadata": {},
   "outputs": [
    {
     "data": {
      "text/html": [
       "<div>\n",
       "<style scoped>\n",
       "    .dataframe tbody tr th:only-of-type {\n",
       "        vertical-align: middle;\n",
       "    }\n",
       "\n",
       "    .dataframe tbody tr th {\n",
       "        vertical-align: top;\n",
       "    }\n",
       "\n",
       "    .dataframe thead th {\n",
       "        text-align: right;\n",
       "    }\n",
       "</style>\n",
       "<table border=\"1\" class=\"dataframe\">\n",
       "  <thead>\n",
       "    <tr style=\"text-align: right;\">\n",
       "      <th></th>\n",
       "      <th>count</th>\n",
       "    </tr>\n",
       "    <tr>\n",
       "      <th>site_id</th>\n",
       "      <th></th>\n",
       "    </tr>\n",
       "  </thead>\n",
       "  <tbody>\n",
       "    <tr>\n",
       "      <th>5NPAU</th>\n",
       "      <td>544</td>\n",
       "    </tr>\n",
       "  </tbody>\n",
       "</table>\n",
       "</div>"
      ],
      "text/plain": [
       "         count\n",
       "site_id       \n",
       "5NPAU      544"
      ]
     },
     "execution_count": 157,
     "metadata": {},
     "output_type": "execute_result"
    }
   ],
   "source": [
    "#filter by country_id = 'BDV'\n",
    "df_bdv = df[df.country_id=='BDV']   \n",
    "#group by site_id and count unique user_id\n",
    "df_bdv_group = df_bdv.groupby('site_id')['user_id'].nunique().to_frame()\n",
    "df_bdv_group.rename(columns={'user_id':'count'}, inplace=True)\n",
    "#sort by unique user number and then take the top one\n",
    "df_bdv_group.sort_values('count',ascending=False).head(1)"
   ]
  },
  {
   "cell_type": "markdown",
   "metadata": {},
   "source": [
    "The rows where the 'country_id'='BDV' were selected first(df_bdv). Then, the number of unique 'user_id' was computed by 'site_id'. As shown above, site, 5NPAU has the largest number of unique users, 544.   "
   ]
  },
  {
   "cell_type": "markdown",
   "metadata": {},
   "source": [
    "#### Question2 "
   ]
  },
  {
   "cell_type": "code",
   "execution_count": 54,
   "metadata": {},
   "outputs": [
    {
     "data": {
      "text/html": [
       "<div>\n",
       "<style scoped>\n",
       "    .dataframe tbody tr th:only-of-type {\n",
       "        vertical-align: middle;\n",
       "    }\n",
       "\n",
       "    .dataframe tbody tr th {\n",
       "        vertical-align: top;\n",
       "    }\n",
       "\n",
       "    .dataframe thead th {\n",
       "        text-align: right;\n",
       "    }\n",
       "</style>\n",
       "<table border=\"1\" class=\"dataframe\">\n",
       "  <thead>\n",
       "    <tr style=\"text-align: right;\">\n",
       "      <th></th>\n",
       "      <th>user_id</th>\n",
       "      <th>site_id</th>\n",
       "      <th>counts</th>\n",
       "    </tr>\n",
       "  </thead>\n",
       "  <tbody>\n",
       "    <tr>\n",
       "      <th>3</th>\n",
       "      <td>LC06C3</td>\n",
       "      <td>N0OTG</td>\n",
       "      <td>25</td>\n",
       "    </tr>\n",
       "    <tr>\n",
       "      <th>417</th>\n",
       "      <td>LC3A59</td>\n",
       "      <td>N0OTG</td>\n",
       "      <td>26</td>\n",
       "    </tr>\n",
       "    <tr>\n",
       "      <th>485</th>\n",
       "      <td>LC3C7E</td>\n",
       "      <td>3POLC</td>\n",
       "      <td>15</td>\n",
       "    </tr>\n",
       "    <tr>\n",
       "      <th>493</th>\n",
       "      <td>LC3C9D</td>\n",
       "      <td>N0OTG</td>\n",
       "      <td>17</td>\n",
       "    </tr>\n",
       "  </tbody>\n",
       "</table>\n",
       "</div>"
      ],
      "text/plain": [
       "    user_id site_id  counts\n",
       "3    LC06C3   N0OTG      25\n",
       "417  LC3A59   N0OTG      26\n",
       "485  LC3C7E   3POLC      15\n",
       "493  LC3C9D   N0OTG      17"
      ]
     },
     "execution_count": 54,
     "metadata": {},
     "output_type": "execute_result"
    }
   ],
   "source": [
    "#convert ts to timestamp\n",
    "df.ts = pd.to_datetime(df.ts)\n",
    "begin = dt.datetime(2019,2,3,0,0,0)      # 2019-02-03 00:00:00\n",
    "end = dt.datetime(2019,2,4,23,59,59)     # 2019-02-04 23:59:59\n",
    "\n",
    "#filter by time\n",
    "df_time = df.loc[(df.ts>begin) & (df.ts<end)]\n",
    "\n",
    "#for each user_id and site_id, count visited times\n",
    "df_count = df_time.groupby(['user_id','site_id'])['ts'].count().to_frame().reset_index()\n",
    "df_count.rename(columns={'ts':'counts'}, inplace=True)\n",
    "\n",
    "#filter by visit times greater than 10\n",
    "df_count[df_count.counts>10]"
   ]
  },
  {
   "cell_type": "markdown",
   "metadata": {},
   "source": [
    "First, 'ts' was converted to timestamp and the dataset was filtered by the times that were given. From the subset of the full data, for each user_id and site_id, visited times were counted. As shown above, there are 4 users who visited a certain site more than 10 times. "
   ]
  },
  {
   "cell_type": "markdown",
   "metadata": {},
   "source": [
    "#### Question3"
   ]
  },
  {
   "cell_type": "code",
   "execution_count": 72,
   "metadata": {},
   "outputs": [
    {
     "data": {
      "text/html": [
       "<div>\n",
       "<style scoped>\n",
       "    .dataframe tbody tr th:only-of-type {\n",
       "        vertical-align: middle;\n",
       "    }\n",
       "\n",
       "    .dataframe tbody tr th {\n",
       "        vertical-align: top;\n",
       "    }\n",
       "\n",
       "    .dataframe thead th {\n",
       "        text-align: right;\n",
       "    }\n",
       "</style>\n",
       "<table border=\"1\" class=\"dataframe\">\n",
       "  <thead>\n",
       "    <tr style=\"text-align: right;\">\n",
       "      <th></th>\n",
       "      <th>num_users</th>\n",
       "    </tr>\n",
       "    <tr>\n",
       "      <th>site_last</th>\n",
       "      <th></th>\n",
       "    </tr>\n",
       "  </thead>\n",
       "  <tbody>\n",
       "    <tr>\n",
       "      <th>5NPAU</th>\n",
       "      <td>992</td>\n",
       "    </tr>\n",
       "    <tr>\n",
       "      <th>N0OTG</th>\n",
       "      <td>561</td>\n",
       "    </tr>\n",
       "    <tr>\n",
       "      <th>QGO3G</th>\n",
       "      <td>289</td>\n",
       "    </tr>\n",
       "    <tr>\n",
       "      <th>GVOFK</th>\n",
       "      <td>42</td>\n",
       "    </tr>\n",
       "    <tr>\n",
       "      <th>3POLC</th>\n",
       "      <td>28</td>\n",
       "    </tr>\n",
       "    <tr>\n",
       "      <th>RT9Z6</th>\n",
       "      <td>2</td>\n",
       "    </tr>\n",
       "    <tr>\n",
       "      <th>EUZ/Q</th>\n",
       "      <td>1</td>\n",
       "    </tr>\n",
       "    <tr>\n",
       "      <th>JSUUP</th>\n",
       "      <td>1</td>\n",
       "    </tr>\n",
       "  </tbody>\n",
       "</table>\n",
       "</div>"
      ],
      "text/plain": [
       "           num_users\n",
       "site_last           \n",
       "5NPAU            992\n",
       "N0OTG            561\n",
       "QGO3G            289\n",
       "GVOFK             42\n",
       "3POLC             28\n",
       "RT9Z6              2\n",
       "EUZ/Q              1\n",
       "JSUUP              1"
      ]
     },
     "execution_count": 72,
     "metadata": {},
     "output_type": "execute_result"
    }
   ],
   "source": [
    "#for each user_id, get last visit time\n",
    "df_last_visit = df.groupby('user_id')['ts'].max().to_frame().reset_index()\n",
    "\n",
    "#merge with full table to get the last visit site\n",
    "df_last_site = df_last_visit.merge(df, on=['ts','user_id'], how='left')\n",
    "\n",
    "#change column names\n",
    "df_last_site.columns = ['user_id','ts_last','country_last','site_last']\n",
    "\n",
    "#group by last visit site and count each site's occurrence, sort by counts\n",
    "df_user_count=df_last_site.groupby('site_last')['ts_last'].count().to_frame().sort_values('ts_last',ascending=False)\n",
    "df_user_count.rename(columns={'ts_last':'num_users'}, inplace=True)\n",
    "df_user_count"
   ]
  },
  {
   "cell_type": "markdown",
   "metadata": {},
   "source": [
    "By using max() function on 'ts', I could get the list of last visit sites from this data. For each site, the unique number of users were counted. As shown above, site \"3POLC\" is ranked at 5th with 28 users whose last visit in the dataset was to \"3POLC\". The top three sites are \"5NPAU\", \"N0OTG\", and \"QGO3G\" "
   ]
  },
  {
   "cell_type": "markdown",
   "metadata": {},
   "source": [
    "#### Question4"
   ]
  },
  {
   "cell_type": "code",
   "execution_count": 75,
   "metadata": {},
   "outputs": [
    {
     "data": {
      "text/plain": [
       "1670"
      ]
     },
     "execution_count": 75,
     "metadata": {},
     "output_type": "execute_result"
    }
   ],
   "source": [
    "#for each user, get first visit time\n",
    "df_first_visit = df.groupby('user_id')['ts'].min().to_frame().reset_index()\n",
    "\n",
    "#merge with full table to get the first visit site\n",
    "df_first_site = df_first_visit.merge(df, on=['ts','user_id'], how='left')\n",
    "\n",
    "#change column names\n",
    "df_first_site.columns = ['user_id','ts_first','country_first','site_first']\n",
    "\n",
    "#combine with the last visit table from Question3, join by using user_id\n",
    "df_comb = df_last_site.merge(df_first_site, on='user_id', how='left')\n",
    "\n",
    "#filter by last visit site=first visit site and compute the length\n",
    "len(df_comb[df_comb.site_first==df_comb.site_last])"
   ]
  },
  {
   "cell_type": "markdown",
   "metadata": {},
   "source": [
    "By using min() function on 'ts', I could get the list of the first visit sites. Then this dataset was merged with the dataset with the last visit sites based on their 'user_id'. And the number of users whose first and last visits are the same were computed. 1670 users have the same first and last visit sites."
   ]
  },
  {
   "cell_type": "markdown",
   "metadata": {},
   "source": [
    "#### Question5"
   ]
  },
  {
   "cell_type": "code",
   "execution_count": 155,
   "metadata": {},
   "outputs": [
    {
     "data": {
      "text/html": [
       "<div>\n",
       "<style scoped>\n",
       "    .dataframe tbody tr th:only-of-type {\n",
       "        vertical-align: middle;\n",
       "    }\n",
       "\n",
       "    .dataframe tbody tr th {\n",
       "        vertical-align: top;\n",
       "    }\n",
       "\n",
       "    .dataframe thead th {\n",
       "        text-align: right;\n",
       "    }\n",
       "</style>\n",
       "<table border=\"1\" class=\"dataframe\">\n",
       "  <thead>\n",
       "    <tr style=\"text-align: right;\">\n",
       "      <th></th>\n",
       "      <th>site_id</th>\n",
       "      <th>A</th>\n",
       "      <th>B</th>\n",
       "      <th>ratio</th>\n",
       "    </tr>\n",
       "  </thead>\n",
       "  <tbody>\n",
       "    <tr>\n",
       "      <th>6</th>\n",
       "      <td>QGO3G</td>\n",
       "      <td>79</td>\n",
       "      <td>353</td>\n",
       "      <td>4.47</td>\n",
       "    </tr>\n",
       "    <tr>\n",
       "      <th>1</th>\n",
       "      <td>5NPAU</td>\n",
       "      <td>260</td>\n",
       "      <td>1104</td>\n",
       "      <td>4.25</td>\n",
       "    </tr>\n",
       "    <tr>\n",
       "      <th>5</th>\n",
       "      <td>N0OTG</td>\n",
       "      <td>179</td>\n",
       "      <td>658</td>\n",
       "      <td>3.68</td>\n",
       "    </tr>\n",
       "    <tr>\n",
       "      <th>0</th>\n",
       "      <td>3POLC</td>\n",
       "      <td>15</td>\n",
       "      <td>36</td>\n",
       "      <td>2.40</td>\n",
       "    </tr>\n",
       "    <tr>\n",
       "      <th>3</th>\n",
       "      <td>GVOFK</td>\n",
       "      <td>26</td>\n",
       "      <td>59</td>\n",
       "      <td>2.27</td>\n",
       "    </tr>\n",
       "    <tr>\n",
       "      <th>4</th>\n",
       "      <td>JSUUP</td>\n",
       "      <td>1</td>\n",
       "      <td>2</td>\n",
       "      <td>2.00</td>\n",
       "    </tr>\n",
       "    <tr>\n",
       "      <th>7</th>\n",
       "      <td>RT9Z6</td>\n",
       "      <td>1</td>\n",
       "      <td>2</td>\n",
       "      <td>2.00</td>\n",
       "    </tr>\n",
       "    <tr>\n",
       "      <th>2</th>\n",
       "      <td>EUZ/Q</td>\n",
       "      <td>1</td>\n",
       "      <td>1</td>\n",
       "      <td>1.00</td>\n",
       "    </tr>\n",
       "  </tbody>\n",
       "</table>\n",
       "</div>"
      ],
      "text/plain": [
       "  site_id    A     B  ratio\n",
       "6   QGO3G   79   353   4.47\n",
       "1   5NPAU  260  1104   4.25\n",
       "5   N0OTG  179   658   3.68\n",
       "0   3POLC   15    36   2.40\n",
       "3   GVOFK   26    59   2.27\n",
       "4   JSUUP    1     2   2.00\n",
       "7   RT9Z6    1     2   2.00\n",
       "2   EUZ/Q    1     1   1.00"
      ]
     },
     "execution_count": 155,
     "metadata": {},
     "output_type": "execute_result"
    }
   ],
   "source": [
    "df_id = df[['user_id','country_id']].drop_duplicates()\n",
    "df_id = df_id.groupby('user_id')['country_id'].count().to_frame()\n",
    "df_id = df_id[df_id.country_id>1]\n",
    "df_id = df_id.drop('country_id', axis=1)\n",
    "df_id\n",
    "\n",
    "#In order to get A \n",
    "df_a = df[['user_id','site_id']].drop_duplicates()\n",
    "df_a = df_id.merge(df_a, on=['user_id'], how='left')\n",
    "df_a = df_a.groupby('site_id')['user_id'].count().to_frame().reset_index()\n",
    "df_a.rename(columns={'user_id':'A'}, inplace=True)\n",
    "\n",
    "#In order to get B\n",
    "df_b = df[['user_id','site_id']].drop_duplicates()\n",
    "df_b = df_b.groupby('site_id')['user_id'].count().to_frame().reset_index()\n",
    "df_b.rename(columns={'user_id':'B'}, inplace=True)\n",
    "\n",
    "#merge A and B\n",
    "df_ab = df_a.merge(df_b, on=['site_id'], how='left')\n",
    "df_ab['ratio'] = round(df_ab['B']/df_ab['A'], 2)\n",
    "df_ab.sort_values('ratio',ascending=False)"
   ]
  },
  {
   "cell_type": "markdown",
   "metadata": {},
   "source": [
    "First, I got which unique user_id have visited at least two different countries(df_id). Second, I selected columns, 'user_id' and 'site_id' from the full data, and dropped duplicates. From this second dataset, I chose the user_id who visited at least two different countries by using the first dataset(df_id), then counted the number of unique user_id by the site_id(A). In order to find B, I selected columns, 'user_id', 'site_id' from the full data, and dropped duplicates. Then, I found the number of unique users that visited each site_id(B). I merged the two datasets(df_a, df_b) on 'site_id' and calculated the ratio, B/A as shown above. \n",
    "The top 3 sites are \"QGO3G\",\"5NPAU\", and \"N0OTG\", and their corresponding ratios are 4.47, 4.25, and 3.68, respectively."
   ]
  }
 ],
 "metadata": {
  "kernelspec": {
   "display_name": "Python",
   "language": "python",
   "name": "conda-env-python-py"
  },
  "language_info": {
   "codemirror_mode": {
    "name": "ipython",
    "version": 3
   },
   "file_extension": ".py",
   "mimetype": "text/x-python",
   "name": "python",
   "nbconvert_exporter": "python",
   "pygments_lexer": "ipython3",
   "version": "3.6.7"
  }
 },
 "nbformat": 4,
 "nbformat_minor": 4
}
